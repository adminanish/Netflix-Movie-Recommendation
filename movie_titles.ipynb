{
 "cells": [
  {
   "cell_type": "code",
   "execution_count": 5,
   "id": "c937fbc1-67fb-4cde-8631-dd3733ea1dd3",
   "metadata": {},
   "outputs": [
    {
     "name": "stdout",
     "output_type": "stream",
     "text": [
      "(17433, 3)\n",
      "\n",
      "   1    2003               Dinosaur Planet\n",
      "0  2  2004.0    Isle of Man TT 2004 Review\n",
      "1  3  1997.0                     Character\n",
      "2  4  1994.0  Paula Abdul's Get Up & Dance\n",
      "3  5  2004.0      The Rise and Fall of ECW\n",
      "4  6  1997.0                          Sick\n"
     ]
    }
   ],
   "source": [
    "import pandas as pd\n",
    "df = pd.read_csv('movie_titles.csv', encoding='ISO-8859-1', on_bad_lines='skip')\n",
    "print(df.shape)\n",
    "print()\n",
    "print(df.head())\n",
    "\n",
    "# rows, columns = df.shape"
   ]
  },
  {
   "cell_type": "code",
   "execution_count": 20,
   "id": "f05a47ea-b3d0-46c8-acd0-dd17af57c68c",
   "metadata": {},
   "outputs": [
    {
     "name": "stdout",
     "output_type": "stream",
     "text": [
      "New CSV file created successfully as output.csv\n"
     ]
    }
   ],
   "source": [
    "import pandas as pd\n",
    "import csv  # Import the csv module for quoting options\n",
    "\n",
    "# File paths\n",
    "input_file = '../movie_titles.csv'   # Replace with your input CSV file path\n",
    "output_file = 'output.csv'           # New file with correct formatting\n",
    "\n",
    "# Custom parser to handle extra commas in the third column\n",
    "def custom_parser(line):\n",
    "    fields = line.strip().split(',')\n",
    "    if len(fields) > 3:\n",
    "        # Join all extra fields into the third column\n",
    "        fields = fields[:2] + [','.join(fields[2:])]\n",
    "    return fields\n",
    "\n",
    "# Manually read the CSV file line by line\n",
    "with open(input_file, 'r', encoding='ISO-8859-1') as file:\n",
    "    lines = file.readlines()\n",
    "\n",
    "# Apply custom parsing logic to each line\n",
    "parsed_lines = [custom_parser(line) for line in lines]\n",
    "\n",
    "# Convert the parsed lines into a DataFrame\n",
    "df1 = pd.DataFrame(parsed_lines, columns=['MovieId', 'ReleaseDate', 'MovieName'])\n",
    "\n",
    "# Save the cleaned DataFrame into a new CSV file with quotes around the 3rd column where necessary\n",
    "df1.to_csv(output_file, index=False, quoting=csv.QUOTE_ALL)\n",
    "\n",
    "print(f\"New CSV file created successfully as {output_file}\")\n"
   ]
  },
  {
   "cell_type": "code",
   "execution_count": 22,
   "id": "4511fe58-b11c-4fdd-b29a-c3de727a759b",
   "metadata": {},
   "outputs": [
    {
     "name": "stdout",
     "output_type": "stream",
     "text": [
      "(17770, 3)\n",
      "\n",
      "       MovieId  ReleaseDate                                          MovieName\n",
      "0            1       2003.0                                    Dinosaur Planet\n",
      "1            2       2004.0                         Isle of Man TT 2004 Review\n",
      "2            3       1997.0                                          Character\n",
      "3            4       1994.0                       Paula Abdul's Get Up & Dance\n",
      "4            5       2004.0                           The Rise and Fall of ECW\n",
      "...        ...          ...                                                ...\n",
      "17765    17766       2002.0  Where the Wild Things Are and Other Maurice Se...\n",
      "17766    17767       2004.0                  Fidel Castro: American Experience\n",
      "17767    17768       2000.0                                              Epoch\n",
      "17768    17769       2003.0                                        The Company\n",
      "17769    17770       2003.0                                       Alien Hunter\n",
      "\n",
      "[17770 rows x 3 columns]\n"
     ]
    }
   ],
   "source": [
    "import pandas as pd\n",
    "df2 = pd.read_csv('output.csv', on_bad_lines='skip')\n",
    "print(df2.shape)\n",
    "print()\n",
    "print(df2)\n",
    "\n",
    "# rows, columns = df.shape"
   ]
  }
 ],
 "metadata": {
  "kernelspec": {
   "display_name": "Python 3 (ipykernel)",
   "language": "python",
   "name": "python3"
  },
  "language_info": {
   "codemirror_mode": {
    "name": "ipython",
    "version": 3
   },
   "file_extension": ".py",
   "mimetype": "text/x-python",
   "name": "python",
   "nbconvert_exporter": "python",
   "pygments_lexer": "ipython3",
   "version": "3.12.4"
  }
 },
 "nbformat": 4,
 "nbformat_minor": 5
}
